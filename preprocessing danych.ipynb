{
 "cells": [
  {
   "cell_type": "code",
   "execution_count": 63,
   "metadata": {},
   "outputs": [
    {
     "ename": "ValueError",
     "evalue": "You are trying to merge on object and datetime64[ns, pytz.FixedOffset(60)] columns. If you wish to proceed you should use pd.concat",
     "output_type": "error",
     "traceback": [
      "\u001b[1;31m---------------------------------------------------------------------------\u001b[0m",
      "\u001b[1;31mValueError\u001b[0m                                Traceback (most recent call last)",
      "\u001b[1;32m<ipython-input-63-abb56bec0cb4>\u001b[0m in \u001b[0;36m<module>\u001b[1;34m\u001b[0m\n\u001b[0;32m    108\u001b[0m \u001b[1;33m\u001b[0m\u001b[0m\n\u001b[0;32m    109\u001b[0m \u001b[1;33m\u001b[0m\u001b[0m\n\u001b[1;32m--> 110\u001b[1;33m \u001b[0mdf1\u001b[0m \u001b[1;33m=\u001b[0m \u001b[0mload_transform_df\u001b[0m\u001b[1;33m(\u001b[0m\u001b[0mdata_folder\u001b[0m\u001b[1;33m)\u001b[0m\u001b[1;33m\u001b[0m\u001b[1;33m\u001b[0m\u001b[0m\n\u001b[0m\u001b[0;32m    111\u001b[0m \u001b[1;33m\u001b[0m\u001b[0m\n\u001b[0;32m    112\u001b[0m \u001b[0mdf1\u001b[0m\u001b[1;33m\u001b[0m\u001b[1;33m\u001b[0m\u001b[0m\n",
      "\u001b[1;32m<ipython-input-63-abb56bec0cb4>\u001b[0m in \u001b[0;36mload_transform_df\u001b[1;34m(data_folder)\u001b[0m\n\u001b[0;32m     82\u001b[0m                 \u001b[0mdf_temp\u001b[0m\u001b[1;33m[\u001b[0m\u001b[1;34m'czas'\u001b[0m\u001b[1;33m]\u001b[0m \u001b[1;33m=\u001b[0m \u001b[0mdf_temp\u001b[0m\u001b[1;33m[\u001b[0m\u001b[1;34m'czas_temp'\u001b[0m\u001b[1;33m]\u001b[0m\u001b[1;33m.\u001b[0m\u001b[0mdt\u001b[0m\u001b[1;33m.\u001b[0m\u001b[0mfloor\u001b[0m\u001b[1;33m(\u001b[0m\u001b[1;34m'H'\u001b[0m\u001b[1;33m,\u001b[0m \u001b[0mambiguous\u001b[0m \u001b[1;33m=\u001b[0m \u001b[1;34m'NaT'\u001b[0m\u001b[1;33m)\u001b[0m\u001b[1;33m\u001b[0m\u001b[1;33m\u001b[0m\u001b[0m\n\u001b[0;32m     83\u001b[0m \u001b[1;33m\u001b[0m\u001b[0m\n\u001b[1;32m---> 84\u001b[1;33m                 \u001b[0mdf_subfinal\u001b[0m \u001b[1;33m=\u001b[0m \u001b[0mpd\u001b[0m\u001b[1;33m.\u001b[0m\u001b[0mmerge\u001b[0m\u001b[1;33m(\u001b[0m\u001b[0mdf_subfinal\u001b[0m\u001b[1;33m,\u001b[0m \u001b[0mdf_temp\u001b[0m\u001b[1;33m.\u001b[0m\u001b[0mgroupby\u001b[0m\u001b[1;33m(\u001b[0m\u001b[1;34m'czas'\u001b[0m\u001b[1;33m)\u001b[0m\u001b[1;33m.\u001b[0m\u001b[0mmean\u001b[0m\u001b[1;33m(\u001b[0m\u001b[1;33m)\u001b[0m\u001b[1;33m.\u001b[0m\u001b[0mreset_index\u001b[0m\u001b[1;33m(\u001b[0m\u001b[1;33m)\u001b[0m\u001b[1;33m,\u001b[0m \u001b[0mon\u001b[0m \u001b[1;33m=\u001b[0m \u001b[1;34m'czas'\u001b[0m\u001b[1;33m,\u001b[0m \u001b[0mhow\u001b[0m \u001b[1;33m=\u001b[0m \u001b[1;34m'left'\u001b[0m\u001b[1;33m)\u001b[0m\u001b[1;33m\u001b[0m\u001b[1;33m\u001b[0m\u001b[0m\n\u001b[0m\u001b[0;32m     85\u001b[0m             \u001b[1;32melse\u001b[0m\u001b[1;33m:\u001b[0m\u001b[1;33m\u001b[0m\u001b[1;33m\u001b[0m\u001b[0m\n\u001b[0;32m     86\u001b[0m                 \u001b[0mdf_temp\u001b[0m\u001b[1;33m[\u001b[0m\u001b[1;34m'czas_temp'\u001b[0m\u001b[1;33m]\u001b[0m \u001b[1;33m=\u001b[0m \u001b[0mdf_temp\u001b[0m\u001b[1;33m[\u001b[0m\u001b[1;34m'czas'\u001b[0m\u001b[1;33m]\u001b[0m\u001b[1;33m+\u001b[0m\u001b[0mpd\u001b[0m\u001b[1;33m.\u001b[0m\u001b[0mTimedelta\u001b[0m\u001b[1;33m(\u001b[0m\u001b[0mtime_end\u001b[0m \u001b[1;33m+\u001b[0m \u001b[0mtime_length\u001b[0m\u001b[1;33m,\u001b[0m\u001b[1;34m'm'\u001b[0m\u001b[1;33m)\u001b[0m\u001b[1;33m\u001b[0m\u001b[1;33m\u001b[0m\u001b[0m\n",
      "\u001b[1;32md:\\ProgramData\\Anaconda3\\lib\\site-packages\\pandas\\core\\reshape\\merge.py\u001b[0m in \u001b[0;36mmerge\u001b[1;34m(left, right, how, on, left_on, right_on, left_index, right_index, sort, suffixes, copy, indicator, validate)\u001b[0m\n\u001b[0;32m    117\u001b[0m         \u001b[0mcopy\u001b[0m\u001b[1;33m=\u001b[0m\u001b[0mcopy\u001b[0m\u001b[1;33m,\u001b[0m\u001b[1;33m\u001b[0m\u001b[1;33m\u001b[0m\u001b[0m\n\u001b[0;32m    118\u001b[0m         \u001b[0mindicator\u001b[0m\u001b[1;33m=\u001b[0m\u001b[0mindicator\u001b[0m\u001b[1;33m,\u001b[0m\u001b[1;33m\u001b[0m\u001b[1;33m\u001b[0m\u001b[0m\n\u001b[1;32m--> 119\u001b[1;33m         \u001b[0mvalidate\u001b[0m\u001b[1;33m=\u001b[0m\u001b[0mvalidate\u001b[0m\u001b[1;33m,\u001b[0m\u001b[1;33m\u001b[0m\u001b[1;33m\u001b[0m\u001b[0m\n\u001b[0m\u001b[0;32m    120\u001b[0m     )\n\u001b[0;32m    121\u001b[0m     \u001b[1;32mreturn\u001b[0m \u001b[0mop\u001b[0m\u001b[1;33m.\u001b[0m\u001b[0mget_result\u001b[0m\u001b[1;33m(\u001b[0m\u001b[1;33m)\u001b[0m\u001b[1;33m\u001b[0m\u001b[1;33m\u001b[0m\u001b[0m\n",
      "\u001b[1;32md:\\ProgramData\\Anaconda3\\lib\\site-packages\\pandas\\core\\reshape\\merge.py\u001b[0m in \u001b[0;36m__init__\u001b[1;34m(self, left, right, how, on, left_on, right_on, axis, left_index, right_index, sort, suffixes, copy, indicator, validate)\u001b[0m\n\u001b[0;32m    701\u001b[0m         \u001b[1;31m# validate the merge keys dtypes. We may need to coerce\u001b[0m\u001b[1;33m\u001b[0m\u001b[1;33m\u001b[0m\u001b[1;33m\u001b[0m\u001b[0m\n\u001b[0;32m    702\u001b[0m         \u001b[1;31m# to avoid incompatible dtypes\u001b[0m\u001b[1;33m\u001b[0m\u001b[1;33m\u001b[0m\u001b[1;33m\u001b[0m\u001b[0m\n\u001b[1;32m--> 703\u001b[1;33m         \u001b[0mself\u001b[0m\u001b[1;33m.\u001b[0m\u001b[0m_maybe_coerce_merge_keys\u001b[0m\u001b[1;33m(\u001b[0m\u001b[1;33m)\u001b[0m\u001b[1;33m\u001b[0m\u001b[1;33m\u001b[0m\u001b[0m\n\u001b[0m\u001b[0;32m    704\u001b[0m \u001b[1;33m\u001b[0m\u001b[0m\n\u001b[0;32m    705\u001b[0m         \u001b[1;31m# If argument passed to validate,\u001b[0m\u001b[1;33m\u001b[0m\u001b[1;33m\u001b[0m\u001b[1;33m\u001b[0m\u001b[0m\n",
      "\u001b[1;32md:\\ProgramData\\Anaconda3\\lib\\site-packages\\pandas\\core\\reshape\\merge.py\u001b[0m in \u001b[0;36m_maybe_coerce_merge_keys\u001b[1;34m(self)\u001b[0m\n\u001b[0;32m   1260\u001b[0m                 \u001b[1;32mraise\u001b[0m \u001b[0mValueError\u001b[0m\u001b[1;33m(\u001b[0m\u001b[0mmsg\u001b[0m\u001b[1;33m)\u001b[0m\u001b[1;33m\u001b[0m\u001b[1;33m\u001b[0m\u001b[0m\n\u001b[0;32m   1261\u001b[0m             \u001b[1;32melif\u001b[0m \u001b[1;32mnot\u001b[0m \u001b[0mneeds_i8_conversion\u001b[0m\u001b[1;33m(\u001b[0m\u001b[0mlk\u001b[0m\u001b[1;33m.\u001b[0m\u001b[0mdtype\u001b[0m\u001b[1;33m)\u001b[0m \u001b[1;32mand\u001b[0m \u001b[0mneeds_i8_conversion\u001b[0m\u001b[1;33m(\u001b[0m\u001b[0mrk\u001b[0m\u001b[1;33m.\u001b[0m\u001b[0mdtype\u001b[0m\u001b[1;33m)\u001b[0m\u001b[1;33m:\u001b[0m\u001b[1;33m\u001b[0m\u001b[1;33m\u001b[0m\u001b[0m\n\u001b[1;32m-> 1262\u001b[1;33m                 \u001b[1;32mraise\u001b[0m \u001b[0mValueError\u001b[0m\u001b[1;33m(\u001b[0m\u001b[0mmsg\u001b[0m\u001b[1;33m)\u001b[0m\u001b[1;33m\u001b[0m\u001b[1;33m\u001b[0m\u001b[0m\n\u001b[0m\u001b[0;32m   1263\u001b[0m             elif is_datetime64tz_dtype(lk.dtype) and not is_datetime64tz_dtype(\n\u001b[0;32m   1264\u001b[0m                 \u001b[0mrk\u001b[0m\u001b[1;33m.\u001b[0m\u001b[0mdtype\u001b[0m\u001b[1;33m\u001b[0m\u001b[1;33m\u001b[0m\u001b[0m\n",
      "\u001b[1;31mValueError\u001b[0m: You are trying to merge on object and datetime64[ns, pytz.FixedOffset(60)] columns. If you wish to proceed you should use pd.concat"
     ]
    }
   ],
   "source": [
    "import pandas as pd\n",
    "import numpy as np\n",
    "import seaborn as sns\n",
    "import matplotlib.pyplot as plt\n",
    "import os\n",
    "import openpyxl\n",
    "\n",
    "\n",
    "def load_transform_df(data_folder):\n",
    "    df=pd.DataFrame()\n",
    "    for file in os.listdir(data_folder):\n",
    "        if 'avg_from_' in file:\n",
    "            df = pd.concat([df, pd.read_csv(data_folder + file, delimiter=',' )])            \n",
    "    df['czas']  = pd.to_datetime(df['czas'])\n",
    "    \n",
    "    temp_zuz = pd.read_csv((data_folder+'temp_zuz.csv'), delimiter=',')\n",
    "    temp_zuz['czas'] = pd.to_datetime(temp_zuz['Czas']).dt.tz_localize('CET', ambiguous = 'NaT')\n",
    "    temp_zuz = temp_zuz.drop('Czas', axis = 1)\n",
    "    \n",
    "    opis = pd.read_excel((data_folder+'opis_zmiennych.xlsx'), engine='openpyxl')\n",
    "    opis_zip = zip(opis.Tagname.str.lower(), opis.opis.values)\n",
    "    opis_dict = dict(opis_zip)\n",
    "    opis_dict['037tix00254.daca.pv'] = 'TEMP. WODY ZASIL.OBIEG PZ 1'\n",
    "    opis_dict['037tix00264.daca.pv'] = 'TEMP. WODY ZASIL.OBIEG PZ 2'\n",
    "    df.rename(columns=opis_dict, inplace=True)\n",
    "    \n",
    "    df_tidy = pd.DataFrame()\n",
    "    df_tidy['czas'] = pd.to_datetime(df['czas'])\n",
    "    df_tidy['woda_powrotna_przeplyw'] = (\n",
    "        df['WODA CHŁODZĄCA DO KOLEKTOR KZ7'] + \n",
    "        df['WODA CHŁODZĄCA DO KOLEKTOR KZ8'] + \n",
    "        df['WODA CHŁODZĄCA DO KOLEKTOR KZ9'] + \n",
    "        df['WODA CHŁODZĄCA DO KOLEKTOR KZ10'] + \n",
    "        df['WODA CHŁODZĄCA DO KOLEKTOR KZ11'] + \n",
    "        df['WODA CHŁODZĄCA DO KOLEKTOR KZ12'] + \n",
    "        df['WODA CHŁODZĄCA DO KOLEKTOR KZ13'] + \n",
    "        df['WODA CHŁODZĄCA DO KOLEKTOR KZ15']\n",
    "    )\n",
    "    df_tidy['woda_powrotna_temp'] = (\n",
    "        df['WODA POWROTNA KOLEKTORA KZ7']*df['WODA CHŁODZĄCA DO KOLEKTOR KZ7'] + \n",
    "        df['WODA POWROTNA KOLEKTORA KZ8']*df['WODA CHŁODZĄCA DO KOLEKTOR KZ8'] + \n",
    "        df['WODA POWROTNA KOLEKTORA KZ9']*df['WODA CHŁODZĄCA DO KOLEKTOR KZ9'] +   \n",
    "        df['WODA POWROTNA KOLEKTORA KZ10']*df['WODA CHŁODZĄCA DO KOLEKTOR KZ10'] +   \n",
    "        df['WODA POWROTNA KOLEKTORA KZ11']*df['WODA CHŁODZĄCA DO KOLEKTOR KZ11'] +   \n",
    "        df['WODA POWROTNA KOLEKTORA KZ12']*df['WODA CHŁODZĄCA DO KOLEKTOR KZ12'] +   \n",
    "        df['WODA POWROTNA KOLEKTORA KZ13']*df['WODA CHŁODZĄCA DO KOLEKTOR KZ13'] +   \n",
    "        df['WODA POWROTNA KOLEKTORA KZ15']*df['WODA CHŁODZĄCA DO KOLEKTOR KZ15'] \n",
    "    ) / df_tidy['woda_powrotna_przeplyw']\n",
    "    df_tidy['woda_zasil_temp'] = (df['TEMP. WODY ZASIL.OBIEG PZ 1'] + df['TEMP. WODY ZASIL.OBIEG PZ 2'])/2\n",
    "    df_tidy['koncentrat'] = df['REG NADAWY KONCENTRATU LIW1'] + df['REG NADAWY KONCENTRATU LIW2']\n",
    "    df_tidy['pyl'] = df['REG PYL ZWROT LIW4']\n",
    "    df_tidy['prazonka'] = df['REG KONCENTRAT PRAZONY LIW3']\n",
    "    df_tidy['wymurowka_temp'] = df.iloc[:,22:46].apply('mean', axis = 1)\n",
    "    df_tidy['prob_corg_masa'] = df['prob_corg'] * df_tidy['koncentrat']\n",
    "    df_tidy['prob_s_masa'] = df['prob_s'] * df_tidy['koncentrat']\n",
    "    df_tidy['prob_fe_masa'] = df['prob_fe'] * df_tidy['koncentrat']\n",
    "    df_tidy['prazonka_fe_masa'] = df['Prażona mieszanina koncentratów HG1 - fe'] * df_tidy['prazonka']\n",
    "    df_tidy['prazonka_s_masa'] = df['Prażona mieszanina koncentratów HG1 - sog'] * df_tidy['prazonka']\n",
    "    df_tidy['wentylator'] = df.iloc[:,48:51].apply('mean', axis = 1)\n",
    "    df_tidy['moc_cieplna_odebrana'] = df['SUMARYCZNA MOC CIEPLNA ODEBRANA - CAŁKOWITA']\n",
    "    df_tidy['kol_kan_temp'] = df.iloc[:,46:48].apply('mean', axis = 1)\n",
    "    \n",
    "    \n",
    "    req = pd.DataFrame({'colnames' : ['woda_powrotna_przeplyw', 'woda_powrotna_temp', 'woda_zasil_temp', 'koncentrat', 'pyl', 'prazonka', 'wymurowka_temp', 'prob_corg_masa', 'prob_s_masa', 'prob_fe_masa', 'prazonka_fe_masa', 'prazonka_s_masa', 'wentylator', 'moc_cieplna_odebrana', 'kol_kan_temp'],\n",
    "        'window_end' : [0, 0, 0, 40, 50, 50, 0, 40, 40, 40, 0, 40, 0, 0, 50],\n",
    "        'window_length' : [0, 4, 79, 4, 179, 179, 79, 4, 4, 4, 79, 4, 79, 79, 179]})\n",
    "    \n",
    "    df_final = pd.DataFrame()\n",
    "    \n",
    "    for temp_zuz_minutes in temp_zuz['czas'].dt.minute.unique():\n",
    "        df_subfinal = temp_zuz[temp_zuz['czas'].dt.minute == temp_zuz_minutes][['temp_zuz', 'czas']]\n",
    "        df_subfinal['czas'] =df_subfinal['czas'] - pd.Timedelta(temp_zuz_minutes,'m')\n",
    "        for i in range(1,16):\n",
    "            df_temp = pd.DataFrame(df_tidy.iloc[:,[0,i]])\n",
    "            df_temp['czas'] = df_temp['czas'] - pd.Timedelta(temp_zuz_minutes,'m')\n",
    "            time_end = int(req[req['colnames'] == df_tidy.columns[i]].window_end)\n",
    "            time_length = int(req[req['colnames'] == df_tidy.columns[i]].window_length)\n",
    "            if time_length<60 :\n",
    "                df_temp['czas_temp'] = df_temp['czas']+pd.Timedelta(time_end + time_length,'m')\n",
    "                df_temp = pd.DataFrame(df_temp[df_temp['czas_temp'].dt.minute <=time_length])\n",
    "                \n",
    "                df_temp['czas'] = df_temp['czas_temp'].dt.floor('H', ambiguous = 'NaT')\n",
    "                \n",
    "                df_subfinal = pd.merge(df_subfinal, df_temp.groupby('czas').mean().reset_index(), on = 'czas', how = 'left')\n",
    "            else:\n",
    "                df_temp['czas_temp'] = df_temp['czas']+pd.Timedelta(time_end + time_length,'m')\n",
    "                \n",
    "                df_temp_temp = df_temp\n",
    "                dummy_time = time_length - 60\n",
    "                while dummy_time > 60:\n",
    "                    df_temp['czas_temp'] = df_temp['czas_temp'] - pd.Timedelta(60, 'm')\n",
    "                    df_temp_temp = pd.concat([df_temp_temp, df_temp], ignore_index=True)\n",
    "                    dummy_time -= 60\n",
    "                \n",
    "                df_temp['czas_temp'] = df_temp['czas_temp'] - pd.Timedelta(60, 'm')\n",
    "                df_temp_temp = pd.concat([df_temp_temp, pd.DataFrame(df_temp[df_temp['czas_temp'].dt.minute <=dummy_time])], ignore_index=True)\n",
    "                df_temp_temp['czas'] = df_temp_temp['czas_temp'].dt.floor('H', ambiguous = 'NaT')\n",
    "                \n",
    "                df_subfinal = pd.merge(df_subfinal, df_temp_temp.groupby('czas').mean().reset_index(), on = 'czas', how = 'left')\n",
    "        \n",
    "        df_subfinal['czas'] = df_subfinal['czas'] + pd.Timedelta(temp_zuz_minutes,'m')\n",
    "        df_final = pd.concat([df_final, df_subfinal])\n",
    "    df_final = df_final.sort_values('czas')\n",
    "    return df_final\n",
    "\n",
    "\n",
    "data_folder = './data/zadanie-3-sztuczny-analizator-temperatury-żużla-wewnątrz-pieca-zawiesionowego/'\n",
    "\n",
    "    \n",
    "df1 = load_transform_df(data_folder)\n",
    "\n",
    "df1"
   ]
  },
  {
   "cell_type": "code",
   "execution_count": null,
   "metadata": {},
   "outputs": [],
   "source": []
  },
  {
   "cell_type": "code",
   "execution_count": 51,
   "metadata": {},
   "outputs": [
    {
     "data": {
      "text/plain": [
       "True"
      ]
     },
     "execution_count": 51,
     "metadata": {},
     "output_type": "execute_result"
    }
   ],
   "source": [
    "list(df1.columns[1:]) == list(df.colnames)"
   ]
  },
  {
   "cell_type": "code",
   "execution_count": 58,
   "metadata": {},
   "outputs": [
    {
     "data": {
      "text/plain": [
       "array([ 0, 30], dtype=int64)"
      ]
     },
     "execution_count": 58,
     "metadata": {},
     "output_type": "execute_result"
    }
   ],
   "source": [
    "temp_zuz['czas'].dt.minute.unique()"
   ]
  }
 ],
 "metadata": {
  "kernelspec": {
   "display_name": "Python 3",
   "language": "python",
   "name": "python3"
  },
  "language_info": {
   "codemirror_mode": {
    "name": "ipython",
    "version": 3
   },
   "file_extension": ".py",
   "mimetype": "text/x-python",
   "name": "python",
   "nbconvert_exporter": "python",
   "pygments_lexer": "ipython3",
   "version": "3.7.4"
  }
 },
 "nbformat": 4,
 "nbformat_minor": 4
}
