{
 "cells": [
  {
   "cell_type": "code",
   "execution_count": 1,
   "id": "2f0e2896",
   "metadata": {},
   "outputs": [],
   "source": [
    "import pandas as pd\n",
    "import matplotlib.pyplot as plt\n",
    "import numpy as np\n",
    "import os\n",
    "from os import listdir\n",
    "import seaborn as sns\n",
    "from sklearn.model_selection import GridSearchCV\n",
    "from sklearn.model_selection import train_test_split\n",
    "from sklearn.linear_model import LinearRegression\n",
    "from sklearn.ensemble import RandomForestRegressor\n",
    "from sklearn.ensemble import GradientBoostingRegressor\n",
    "from sklearn.metrics import mean_squared_error"
   ]
  },
  {
   "cell_type": "code",
   "execution_count": 2,
   "id": "d46d3b92",
   "metadata": {},
   "outputs": [],
   "source": [
    "data_folder = './output/'\n",
    "df = pd.read_csv(data_folder + 'df_final_changing_windows.csv')\n",
    "#df.set_index('czas_utc', inplace=True)\n",
    "df['czas_utc'] = pd.to_datetime(df['czas_utc'])\n",
    "df.drop(df[df['koncentrat']==0].index, axis=0, inplace=True) #usunięcie wierszy z koncentratem=0\n",
    "df.drop(['prob_corg_proc', 'prob_s_proc', 'prob_fe_proc', 'prazonka_s_proc', 'prazonka_fe_proc'], axis=1, inplace=True)\n",
    "\n",
    "features = df.drop('temp_zuz',axis=1).diff()\n",
    "features['prev_temp_zuz'] = df['temp_zuz'].shift(1)\n",
    "\n",
    "features = features.iloc[1:,:]\n",
    "label = df['temp_zuz'].iloc[1:,]\n",
    "\n",
    "features['czas_utc'] = features['czas_utc'].dt.seconds/3600\n",
    "#features = df.drop(\"temp_zuz\", axis=1)\n",
    "#label = df[\"temp_zuz\"]"
   ]
  },
  {
   "cell_type": "code",
   "execution_count": 37,
   "id": "5997673b",
   "metadata": {},
   "outputs": [
    {
     "name": "stdout",
     "output_type": "stream",
     "text": [
      "Best parameters for RF: {'max_depth': 15, 'min_samples_leaf': 20}\n"
     ]
    }
   ],
   "source": [
    "# wyszukanie najlepszych hyper parametrów dla lasów losowych\n",
    "grid_values = {'min_samples_leaf': np.arange(20,51,10), 'max_depth': np.arange(2,16,1)}\n",
    "grid_rf = GridSearchCV(RandomForestRegressor(n_estimators = 100, random_state=2137), param_grid = grid_values,scoring = 'r2')\n",
    "\n",
    "grid_rf.fit(features, label)\n",
    "params_rf = grid_rf.best_params_\n",
    "print(\"Best parameters for RF:\", grid_rf.best_params_)"
   ]
  },
  {
   "cell_type": "code",
   "execution_count": null,
   "id": "3e75a40a",
   "metadata": {},
   "outputs": [],
   "source": [
    "# wyszukanie najlepszych hyper parametrów dla Gradient boostingu\n",
    "gbr_params = {'n_estimators': [10,100],\n",
    "          'max_depth': np.arange(2,16,1),\n",
    "          'min_samples_split': np.arange(20,51,10)}\n",
    "\n",
    "clf = GridSearchCV(estimator=GradientBoostingRegressor(random_state=2137), \n",
    "                   param_grid=gbr_params)\n",
    "clf.fit(features, label)\n",
    "\n",
    "print(\"Best parameters for gbr:\", clf.best_params_)\n",
    "params_gbr = clf.best_params_"
   ]
  },
  {
   "cell_type": "code",
   "execution_count": null,
   "id": "f699eaa1",
   "metadata": {},
   "outputs": [],
   "source": [
    "X_test, X_train, y_test, y_train = train_test_split(features, label, test_size=0.2, random_state=2137)\n",
    "\n",
    "# lasy losowe\n",
    "rf = RandomForestRegressor(n_estimators = 100, min_samples_leaf=params_rf['min_samples_leaf'], \n",
    "                           max_depth=params_rf['max_depth'], random_state=2137)\n",
    "# dopasownie do danych treningowych\n",
    "rf.fit(X_train, y_train)\n",
    "\n",
    "# predykcja danych treningowych\n",
    "predictions_rf = rf.predict(X_train)\n",
    "errors_rf = abs(predictions_rf - y_train)\n",
    "mse_rf = mean_squared_error(y_train, predictions_rf)"
   ]
  },
  {
   "cell_type": "code",
   "execution_count": null,
   "id": "26e9fbd7",
   "metadata": {},
   "outputs": [],
   "source": [
    "# Gradient boosting\n",
    "gbr = GradientBoostingRegressor(random_state=2137, max_depth=params_gbr['max_depth'], \n",
    "                                n_estimators=params_gbr['n_estimators'],\n",
    "                                min_samples_split=params_gbr['min_samples_split'])\n",
    "# dopasownie do danych treningowych\n",
    "gbr.fit(X_train, y_train)\n",
    "# predykcja danych treningowych\n",
    "predictions_gbr = gbr.predict(X_train)\n",
    "errors_gbr = abs(predictions_gbr - y_train)\n",
    "mse_gbr = mean_squared_error(y_train, predictions_gbr)"
   ]
  },
  {
   "cell_type": "code",
   "execution_count": null,
   "id": "10c77b7c",
   "metadata": {},
   "outputs": [],
   "source": [
    "# regresja liniowa\n",
    "lr = LinearRegression()\n",
    "# dopasownie do danych treningowych\n",
    "lr.fit(X_train, y_train)\n",
    "# predykcja danych treningowych\n",
    "predictions_lr = lr.predict(X_train)\n",
    "errors_lr = abs(predictions_lr - y_train)\n",
    "mse_lr = mean_squared_error(y_train, predictions_lr)"
   ]
  },
  {
   "cell_type": "code",
   "execution_count": null,
   "id": "289ea4ba",
   "metadata": {},
   "outputs": [],
   "source": [
    "# plotowanie rezultatów dla danych treningowych\n",
    "plt.rcParams[\"figure.figsize\"] = (20,10)\n",
    "x = range(len(y_train))\n",
    "f, (ax1, ax2) = plt.subplots(2, 1)\n",
    "ax1.plot(x, predictions_lr, linestyle='--', label='Prediction LR')\n",
    "ax1.plot(x, predictions_rf, linestyle='--', label='Prediction RF')\n",
    "ax1.plot(x, predictions_gbr, linestyle='--', label='Prediction GB')\n",
    "ax1.plot(x, y_train, marker='.', label='Real')\n",
    "ax1.set_ylabel('Charges')\n",
    "ax1.legend()\n",
    "ax1.grid()\n",
    "\n",
    "ax2.plot(x, errors_rf, linestyle='-.', label='RF')\n",
    "ax2.plot(x, errors_lr, linestyle='-.', label='LR')\n",
    "ax2.plot(x, errors_gbr, linestyle='-.', label='GB')\n",
    "ax2.set_ylabel('Prediction errors')\n",
    "ax2.legend()\n",
    "ax2.grid()\n",
    "ax1.set_title('Train data')"
   ]
  },
  {
   "cell_type": "code",
   "execution_count": null,
   "id": "e2b82d8b",
   "metadata": {
    "scrolled": false
   },
   "outputs": [],
   "source": [
    "# plotowanie rezultatów dla danych testowych\n",
    "predictions_rf = rf.predict(X_test)\n",
    "errors_rf = abs(predictions_rf - y_test)\n",
    "predictions_lr = lr.predict(X_test)\n",
    "errors_lr = abs(predictions_lr - y_test)\n",
    "predictions_gbr = gbr.predict(X_test)\n",
    "errors_gbr = abs(predictions_gbr - y_test)\n",
    "print('R^2 for train data for RF = %.2f ' %rf.score(X_train,y_train))\n",
    "print('R^2 for test data for RF = %.2f ' %rf.score(X_test,y_test))\n",
    "print('R^2 for train data for LR = %.2f ' %lr.score(X_train,y_train))\n",
    "print('R^2 for test data for LR = %.2f '%lr.score(X_test,y_test))\n",
    "print('R^2 for train data for GB = %.2f ' %gbr.score(X_train,y_train))\n",
    "print('R^2 for test data for GB = %.2f '%gbr.score(X_test,y_test))\n",
    "\n",
    "print('MSE for train data for RF = %.2f ' %mse_rf)\n",
    "print('MSE for test data for RF = %.2f ' %mean_squared_error(y_test, predictions_rf))\n",
    "print('MSE for train data for LR = %.2f ' %mse_lr)\n",
    "print('MSE for test data for LR = %.2f '% mean_squared_error(y_test, predictions_lr))\n",
    "print('MSE for train data for GB = %.2f ' %mse_gbr)\n",
    "print('MSE for test data for GB = %.2f '%mean_squared_error(y_test, predictions_gbr))\n",
    "\n",
    "\n",
    "x = range(len(y_test))\n",
    "f, (ax1, ax2) = plt.subplots(2, 1)\n",
    "ax1.plot(x, predictions_lr, linestyle='--', label='Prediction LR')\n",
    "ax1.plot(x, predictions_rf, linestyle='--', label='Prediction RF')\n",
    "ax1.plot(x, predictions_gbr, linestyle='--', label='Prediction GB')\n",
    "ax1.plot(x, y_test, marker='.', label='Real')\n",
    "ax1.set_ylabel('Charges')\n",
    "ax1.legend()\n",
    "ax1.grid()\n",
    "\n",
    "ax2.plot(x, errors_rf, linestyle='-.', label='RF')\n",
    "ax2.plot(x, errors_lr, linestyle='-.', label='LR')\n",
    "ax2.plot(x, errors_gbr, linestyle='-.', label='GB')\n",
    "ax2.set_ylabel('Prediction errors')\n",
    "ax2.legend()\n",
    "ax2.grid()\n",
    "\n",
    "ax1.set_title('Test data')"
   ]
  },
  {
   "cell_type": "code",
   "execution_count": null,
   "id": "a441205c",
   "metadata": {},
   "outputs": [],
   "source": [
    "imp = pd.DataFrame({'column': features.columns.values, 'RF_importance': rf.feature_importances_,\n",
    "              'GB_importance': gbr.feature_importances_}).sort_values('RF_importance', ascending=False)\n",
    "imp"
   ]
  },
  {
   "cell_type": "code",
   "execution_count": null,
   "id": "5a8e50a4",
   "metadata": {},
   "outputs": [],
   "source": [
    "x = {'prev_temp_zuz': 'Poprzednia temperatura', 'prazonka_fe_masa': 'Prazonka_fe_masa', \n",
    "     'moc_cieplna_odebrana': 'Moc cieplna odebrana', 'pyl': 'Pył', 'koncentrat': 'Koncentrat', \n",
    "     'woda_zasil_temp': 'Woda_zasil_temp', 'woda_powrotna_temp': 'Woda_powrotna_temp', 'prazonka_s_masa': 'Prażonka_S_masa',\n",
    "    'wentylator': 'Wentylator ODCZ_ZAD OBROTÓW', 'kol_kan_temp': 'Temperatura na kol. kan.', 'czas_utc': 'Diff czas',\n",
    "    'prob_corg_masa': 'Prob_corg_masa', 'prob_fe_masa': 'Prob_fe_masa', 'woda_powrotna_przeplyw': 'Woda_powrotna_przepływ',\n",
    "     'wymurowka_temp': 'Temperatura wymurówka', 'prazonka': 'Prażonka', 'prob_s_masa': 'Prob_s_masa'}"
   ]
  },
  {
   "cell_type": "code",
   "execution_count": null,
   "id": "dc8f6a6a",
   "metadata": {},
   "outputs": [],
   "source": [
    "imp['column'] = imp['column'].map(x)\n",
    "imp.set_index('column')"
   ]
  },
  {
   "cell_type": "code",
   "execution_count": null,
   "id": "1444987c",
   "metadata": {},
   "outputs": [],
   "source": []
  }
 ],
 "metadata": {
  "kernelspec": {
   "display_name": "Python 3 (ipykernel)",
   "language": "python",
   "name": "python3"
  },
  "language_info": {
   "codemirror_mode": {
    "name": "ipython",
    "version": 3
   },
   "file_extension": ".py",
   "mimetype": "text/x-python",
   "name": "python",
   "nbconvert_exporter": "python",
   "pygments_lexer": "ipython3",
   "version": "3.7.5"
  }
 },
 "nbformat": 4,
 "nbformat_minor": 5
}
