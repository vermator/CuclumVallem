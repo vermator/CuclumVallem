{
 "cells": [
  {
   "cell_type": "code",
   "execution_count": 7,
   "id": "546dd3fc",
   "metadata": {},
   "outputs": [],
   "source": [
    "import pandas as pd\n",
    "import joblib"
   ]
  },
  {
   "cell_type": "code",
   "execution_count": 8,
   "id": "b70c1023",
   "metadata": {},
   "outputs": [],
   "source": [
    "def predykcja(df):\n",
    "    filename = 'finalized_model.sav'\n",
    "    lr = joblib.load(filename)\n",
    "    \n",
    "    df['czas_utc'] = pd.to_datetime(df['czas_utc'])\n",
    "    df.drop(df[df['koncentrat']==0].index, axis=0, inplace=True) # usunięcie wierszy z koncentratem=0\n",
    "    # usuniecie zmiennych skorelowanych\n",
    "    df.drop(['prob_corg_proc', 'prob_s_proc', 'prob_fe_proc', 'prazonka_s_proc', 'prazonka_fe_proc'], axis=1, inplace=True)\n",
    "    # usuniecie zmiennych z p_value>0.5\n",
    "    df.drop(['prazonka','prob_fe_masa','koncentrat','prob_s_masa','wymurowka_temp'], axis=1, inplace=True) \n",
    "    features = df.drop('temp_zuz',axis=1).diff()\n",
    "    features['prev_temp_zuz'] = df['temp_zuz'].shift(1)\n",
    "    features = features.iloc[1:,:]\n",
    "    features['czas_utc'] = features['czas_utc'].dt.seconds/3600\n",
    "    label = df['temp_zuz'].iloc[1:,]\n",
    "    \n",
    "    y_pred = lr.predict(features)\n",
    "    r2 = lr.score(features, label)\n",
    "    print('R^2 = %.2f ' % r2)\n",
    "    return y_pred, r2\n",
    "    "
   ]
  }
 ],
 "metadata": {
  "kernelspec": {
   "display_name": "Python 3 (ipykernel)",
   "language": "python",
   "name": "python3"
  },
  "language_info": {
   "codemirror_mode": {
    "name": "ipython",
    "version": 3
   },
   "file_extension": ".py",
   "mimetype": "text/x-python",
   "name": "python",
   "nbconvert_exporter": "python",
   "pygments_lexer": "ipython3",
   "version": "3.7.5"
  }
 },
 "nbformat": 4,
 "nbformat_minor": 5
}
